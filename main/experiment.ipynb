{
 "cells": [
  {
   "cell_type": "code",
   "execution_count": null,
   "id": "3075b5c4",
   "metadata": {},
   "outputs": [],
   "source": [
    "# !pip install easyocr\n",
    "# !pip3 install torch torchvision torchaudio --index-url https://download.pytorch.org/whl/cu128\n",
    "# !pip install ultralytics"
   ]
  },
  {
   "cell_type": "code",
   "execution_count": 6,
   "id": "d49e539e",
   "metadata": {},
   "outputs": [
    {
     "name": "stderr",
     "output_type": "stream",
     "text": [
      "Neither CUDA nor MPS are available - defaulting to CPU. Note: This module is much faster with a GPU.\n",
      "e:\\myworkspace\\.venv\\Lib\\site-packages\\torch\\utils\\data\\dataloader.py:665: UserWarning: 'pin_memory' argument is set as true but no accelerator is found, then device pinned memory won't be used.\n",
      "  warnings.warn(warn_msg)\n"
     ]
    },
    {
     "data": {
      "text/plain": [
       "['กท', '2058', 'ฉะเชิงเทรา', 'ป6', '572982949']"
      ]
     },
     "execution_count": 6,
     "metadata": {},
     "output_type": "execute_result"
    }
   ],
   "source": [
    "import easyocr\n",
    "\n",
    "path = \"E:\\Github_repository\\license-plate-project\\image\\image01.jpg\"\n",
    "reader = easyocr.Reader(['th', 'en'], gpu=True)\n",
    "reader.readtext(path, detail=0)"
   ]
  },
  {
   "cell_type": "code",
   "execution_count": null,
   "id": "2e09e32b",
   "metadata": {},
   "outputs": [],
   "source": [
    "import cv2 as cv\n",
    "from ultralytics import YOLO\n",
    "# Open camera\n",
    "cam = cv.VideoCapture(0)\n",
    "cam.set(cv.CAP_PROP_FRAME_WIDTH, 1280)  # Set width to 1280\n",
    "cam.set(cv.CAP_PROP_FRAME_HEIGHT, 720)  # Set height to 720\n",
    "\n",
    "# Load YOLO model\n",
    "model = YOLO('yolo11_custom.pt') \n",
    "\n",
    "\n",
    "\n",
    "try:\n",
    "    while True:\n",
    "        success, img = cam.read()\n",
    "        if not success:\n",
    "            break\n",
    "\n",
    "        results = model(img, stream=True)\n",
    "\n",
    "        for r in results:\n",
    "            boxes = r.boxes\n",
    "            for box in boxes:\n",
    "                x1, y1, x2, y2 = map(int, box.xyxy[0])\n",
    "                w, h = x2 - x1, y2 - y1\n",
    "                conf = math.ceil((box.conf[0] * 100)) / 100\n",
    "                cls = int(box.cls[0])\n",
    "\n",
    "                if conf >= 0.80:\n",
    "                    cropped = img[y1:y2, x1:x2]\n",
    "                    gray = cv.cvtColor(cropped, cv.COLOR_BGR2GRAY)\n",
    "                    _, thresh = cv.threshold(gray, 127, 255, cv.THRESH_BINARY)\n",
    "                    \n",
    "                    ocr_text = pytesseract.image_to_string(thresh, lang='eng+jpn')\n",
    "                    print(\"[OCR]:\", ocr_text)\n",
    "\n",
    "                    yen_price = extract_yen_price(ocr_text)\n",
    "                    if currency_choice in data_currency: # Check if the currency is in the data_currency dictionary\n",
    "                        EXCHANGE_RATE = data_currency[currency_choice] \n",
    "                        symbol = currency_choice\n",
    "                    else: \n",
    "                        print(\"someting whent wrong\")\n",
    "                    \n",
    "                    if yen_price and currency_choice is not None:\n",
    "                        currency_price = round(yen_price * EXCHANGE_RATE, 2)\n",
    "                        label_text = f'YEN{yen_price} / {symbol} {currency_price}'\n",
    "                    else:\n",
    "                        label_text = \"Price not found\"\n",
    "\n",
    "                    cvz.cornerRect(img, (x1, y1, w, h))\n",
    "                    cvz.putTextRect(img, label_text, (x1, y1 - 10), scale=1, thickness=1, colorR=(150, 0, 255), colorT=(0, 0, 0), offset=10)\n",
    "\n",
    "        cv.imshow(\"YOLO + OCR\", img)\n",
    "        cv.setWindowProperty(\"YOLO + OCR\", cv.WND_PROP_FULLSCREEN, cv.WINDOW_FULLSCREEN)\n",
    "        if cv.waitKey(1) & 0xFF == ord('q'):\n",
    "            break\n",
    "except KeyboardInterrupt:\n",
    "    print(\"Exiting program...\")"
   ]
  }
 ],
 "metadata": {
  "kernelspec": {
   "display_name": ".venv",
   "language": "python",
   "name": "python3"
  },
  "language_info": {
   "codemirror_mode": {
    "name": "ipython",
    "version": 3
   },
   "file_extension": ".py",
   "mimetype": "text/x-python",
   "name": "python",
   "nbconvert_exporter": "python",
   "pygments_lexer": "ipython3",
   "version": "3.11.4"
  }
 },
 "nbformat": 4,
 "nbformat_minor": 5
}
